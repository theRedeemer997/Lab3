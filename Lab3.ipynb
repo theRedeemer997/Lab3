{
 "cells": [
  {
   "cell_type": "markdown",
   "id": "13cc5ae0",
   "metadata": {},
   "source": [
    "# **Name** - Manu Mathew\n",
    "# **StudentID** - 8990691"
   ]
  },
  {
   "cell_type": "markdown",
   "id": "27d08d63",
   "metadata": {},
   "source": [
    "**Objective** - The primary objective of the Lab is to build and compare image classification model that can accurately distinguish the images of cats and dogs. In this notebook, \n",
    "- We first prepare a manageable dataset of 5000 images where 2500 images are of dogs and 2500 images are of cats.\n",
    "- Then we perform the exploratory data analysis (EDA) to understand the dataset characteristics and identify data quality issues.\n",
    "- Train and evaluate two deep learning models:\n",
    "    - A custom-defined Convolutional Neural Network (CNN).\n",
    "    - A fine-tuned VGG16 model pre-trained on ImageNet.\n",
    "- Explore the relative performance of the models."
   ]
  },
  {
   "cell_type": "markdown",
   "id": "97906009",
   "metadata": {},
   "source": [
    "`Approach`: \n",
    "- Data:\n",
    "    Use 5000 images from Kaggle and organize them into train/test folders.\n",
    "\n",
    "- Preprocessing:\n",
    "    Resize images, normalize pixel values, apply data augmentation, and split into train/validation/test sets.\n",
    "\n",
    "- EDA:\n",
    "    Visualize sample images, check class distribution, and analyze pixel intensity.\n",
    "\n",
    "- Model 1 - Custom CNN:\n",
    "    Build and train a basic CNN with conv, pooling, and dense layers using binary classification.\n",
    "\n",
    "- Model 2 - Fine-Tune VGG16:\n",
    "    Load pre-trained VGG16 (without top), freeze base, add custom top layers, and train with the same data.\n",
    "\n",
    "- Evaluation:\n",
    "    Compare both models using accuracy, confusion matrix, precision, recall, F1-score, and PR curve.\n",
    "\n",
    "- Error Analysis:\n",
    "    Show and review misclassified images to find patterns in errors.\n",
    "\n",
    "- Conclusion:\n",
    "    Summarize which model performed better and suggest possible improvements."
   ]
  },
  {
   "cell_type": "markdown",
   "id": "396436a6",
   "metadata": {},
   "source": [
    "## Import the dependencies"
   ]
  },
  {
   "cell_type": "code",
   "execution_count": 1,
   "id": "98256ad4",
   "metadata": {},
   "outputs": [],
   "source": [
    "import os, shutil, pathlib"
   ]
  },
  {
   "cell_type": "markdown",
   "id": "b7fadfab",
   "metadata": {},
   "source": [
    "## Obtain the dataset"
   ]
  },
  {
   "cell_type": "code",
   "execution_count": null,
   "id": "eb9721e4",
   "metadata": {},
   "outputs": [],
   "source": [
    "# orginal_dir is the directory where the original dataset is stored.\n",
    "original_dir = pathlib.Path(\"./data/train\")\n",
    "# new_base_dir is the directory where the new dataset structure will be created.\n",
    "# It will contain subdirectories for train, validation, and test sets.\n",
    "new_base_dir = pathlib.Path(\"./data/kaggle_dogs_vs_cats_small\")\n",
    "\n",
    "# Create the new base directory if it doesn't exist\n",
    "def make_subset(subset_name, start_index, end_index):\n",
    "    for category in (\"cat\", \"dog\"):\n",
    "        dir = new_base_dir / subset_name / category\n",
    "        os.makedirs(dir)\n",
    "        fnames = [f\"{category}.{i}.jpg\" for i in range(start_index, end_index)]\n",
    "        for fname in fnames:\n",
    "            shutil.copyfile(src=original_dir / fname,\n",
    "                            dst=dir / fname)\n",
    "\n",
    "# Create train, validation, and test subsets\n",
    "make_subset(\"train\", start_index=0, end_index=1000)\n",
    "make_subset(\"validation\", start_index=1000, end_index=1500)\n",
    "make_subset(\"test\", start_index=1500, end_index=2500)"
   ]
  }
 ],
 "metadata": {
  "kernelspec": {
   "display_name": ".venv",
   "language": "python",
   "name": "python3"
  },
  "language_info": {
   "codemirror_mode": {
    "name": "ipython",
    "version": 3
   },
   "file_extension": ".py",
   "mimetype": "text/x-python",
   "name": "python",
   "nbconvert_exporter": "python",
   "pygments_lexer": "ipython3",
   "version": "3.10.11"
  }
 },
 "nbformat": 4,
 "nbformat_minor": 5
}
