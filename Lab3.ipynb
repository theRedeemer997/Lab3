{
 "cells": [
  {
   "cell_type": "markdown",
   "id": "13cc5ae0",
   "metadata": {},
   "source": [
    "**Name** - Manu Mathew\n",
    "**StudentID** - 8990691"
   ]
  },
  {
   "cell_type": "markdown",
   "id": "27d08d63",
   "metadata": {},
   "source": [
    "**Objective** - The primary objective of the Lab is to build and compare image classification model that can accurately distinguish the images of cats and dogs. In this notebook, \n",
    "- We first prepare a manageable dataset of 5000 images where 2500 images are of dogs and 2500 images are of cats.\n",
    "- Then we perform the exploratory data analysis (EDA) to understand the dataset characteristics and identify data quality issues.\n",
    "- Train and evaluate two deep learning models:\n",
    "    - A custom-defined Convolutional Neural Network (CNN).\n",
    "    - A fine-tuned VGG16 model pre-trained on ImageNet.\n",
    "- Explore the relative performance of the models."
   ]
  },
  {
   "cell_type": "markdown",
   "id": "97906009",
   "metadata": {},
   "source": [
    "`Approach`: \n",
    "- Data:\n",
    "    Use 5000 images from Kaggle and organize them into train/test folders.\n",
    "\n",
    "- Preprocessing:\n",
    "    Resize images, normalize pixel values, apply data augmentation, and split into train/validation/test sets.\n",
    "\n",
    "- EDA:\n",
    "    Visualize sample images, check class distribution, and analyze pixel intensity.\n",
    "\n",
    "- Model 1 - Custom CNN:\n",
    "    Build and train a basic CNN with conv, pooling, and dense layers using binary classification.\n",
    "\n",
    "- Model 2 - Fine-Tune VGG16:\n",
    "    Load pre-trained VGG16 (without top), freeze base, add custom top layers, and train with the same data.\n",
    "\n",
    "- Evaluation:\n",
    "    Compare both models using accuracy, confusion matrix, precision, recall, F1-score, and PR curve.\n",
    "\n",
    "- Error Analysis:\n",
    "    Show and review misclassified images to find patterns in errors.\n",
    "\n",
    "- Conclusion:\n",
    "    Summarize which model performed better and suggest possible improvements."
   ]
  }
 ],
 "metadata": {
  "language_info": {
   "name": "python"
  }
 },
 "nbformat": 4,
 "nbformat_minor": 5
}
